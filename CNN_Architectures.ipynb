{
  "nbformat": 4,
  "nbformat_minor": 0,
  "metadata": {
    "colab": {
      "provenance": [],
      "include_colab_link": true
    },
    "kernelspec": {
      "name": "python3",
      "display_name": "Python 3"
    },
    "language_info": {
      "name": "python"
    }
  },
  "cells": [
    {
      "cell_type": "markdown",
      "metadata": {
        "id": "view-in-github",
        "colab_type": "text"
      },
      "source": [
        "<a href=\"https://colab.research.google.com/github/Danhh-zk/LLMs_Bootcamp_SDAIA/blob/main/CNN_Architectures.ipynb\" target=\"_parent\"><img src=\"https://colab.research.google.com/assets/colab-badge.svg\" alt=\"Open In Colab\"/></a>"
      ]
    },
    {
      "cell_type": "markdown",
      "source": [
        "# The CIFAR-10 Dataset"
      ],
      "metadata": {
        "id": "mvJjUSPBhteR"
      }
    },
    {
      "cell_type": "markdown",
      "source": [
        "In this notebook, we will use the CIFAR-10 dataset, which consists of 60,000 32x32 color images in 10 classes. We will try two different CNN architectures to classify the images: a simple model and a deeper model."
      ],
      "metadata": {
        "id": "DhqE1wTpe37H"
      }
    },
    {
      "cell_type": "markdown",
      "source": [
        "## Load the dataset"
      ],
      "metadata": {
        "id": "khpM-mXnh0AU"
      }
    },
    {
      "cell_type": "code",
      "execution_count": null,
      "metadata": {
        "id": "6hBwEI_gdROZ",
        "outputId": "d4390cb2-36c7-4ba0-ad98-d52370eda8c0",
        "colab": {
          "base_uri": "https://localhost:8080/"
        }
      },
      "outputs": [
        {
          "output_type": "stream",
          "name": "stdout",
          "text": [
            "Downloading data from https://www.cs.toronto.edu/~kriz/cifar-10-python.tar.gz\n",
            "170498071/170498071 [==============================] - 8s 0us/step\n"
          ]
        }
      ],
      "source": [
        "import tensorflow as tf\n",
        "\n",
        "# Load the CIFAR-10 dataset\n",
        "(train_images, train_labels), (test_images, test_labels) = tf.keras.datasets.cifar10.load_data()"
      ]
    },
    {
      "cell_type": "markdown",
      "source": [
        "Let's normalize the pixel values"
      ],
      "metadata": {
        "id": "AVUBIC2ypAns"
      }
    },
    {
      "cell_type": "code",
      "source": [
        "# Normalize the pixel values to the range [0, 1]\n",
        "train_images, test_images = train_images / 255.0, test_images / 255.0"
      ],
      "metadata": {
        "id": "W7q-0IRyo_wz"
      },
      "execution_count": null,
      "outputs": []
    },
    {
      "cell_type": "markdown",
      "source": [
        "## Modeling"
      ],
      "metadata": {
        "id": "Snnn6vc-h6hL"
      }
    },
    {
      "cell_type": "markdown",
      "source": [
        "Now, let's build and train two different CNN architectures:\n",
        "\n"
      ],
      "metadata": {
        "id": "xCTYtLgdfBfA"
      }
    },
    {
      "cell_type": "markdown",
      "source": [
        "### Model 1 - Simple CNN:"
      ],
      "metadata": {
        "id": "ic009uHZh4CQ"
      }
    },
    {
      "cell_type": "code",
      "source": [
        "# Build the Simple CNN architecture\n",
        "model_simple = tf.keras.Sequential([\n",
        "    tf.keras.layers.Conv2D(32, (3, 3), activation='relu', input_shape=(32, 32, 3)),\n",
        "    tf.keras.layers.MaxPooling2D((2, 2)),\n",
        "    tf.keras.layers.Conv2D(64, (3, 3), activation='relu'),\n",
        "    tf.keras.layers.MaxPooling2D((2, 2)),\n",
        "    tf.keras.layers.Flatten(),\n",
        "    tf.keras.layers.Dense(64, activation='relu'),\n",
        "    tf.keras.layers.Dense(10, activation='softmax')\n",
        "])\n",
        "\n",
        "# Compile the model\n",
        "model_simple.compile(optimizer='adam',\n",
        "                     loss='sparse_categorical_crossentropy',\n",
        "                     metrics=['accuracy'])\n",
        "\n",
        "# Train the model\n",
        "history_simple = model_simple.fit(train_images, train_labels, epochs=10, batch_size=32, validation_data=(test_images, test_labels))\n",
        "\n",
        "# Evaluate the model\n",
        "test_loss_simple, test_accuracy_simple = model_simple.evaluate(test_images, test_labels)\n",
        "print(\"Test accuracy (Simple CNN):\", test_accuracy_simple)\n"
      ],
      "metadata": {
        "colab": {
          "base_uri": "https://localhost:8080/"
        },
        "id": "JEDuTC6XfDfT",
        "outputId": "045e0816-42fc-4303-94ed-5636f6490bad"
      },
      "execution_count": null,
      "outputs": [
        {
          "output_type": "stream",
          "name": "stdout",
          "text": [
            "Epoch 1/10\n",
            "1563/1563 [==============================] - 73s 46ms/step - loss: 1.4613 - accuracy: 0.4722 - val_loss: 1.2268 - val_accuracy: 0.5629\n",
            "Epoch 2/10\n",
            "1563/1563 [==============================] - 71s 45ms/step - loss: 1.1028 - accuracy: 0.6120 - val_loss: 1.0620 - val_accuracy: 0.6270\n",
            "Epoch 3/10\n",
            "1563/1563 [==============================] - 71s 45ms/step - loss: 0.9760 - accuracy: 0.6599 - val_loss: 1.0064 - val_accuracy: 0.6546\n",
            "Epoch 4/10\n",
            "1563/1563 [==============================] - 71s 45ms/step - loss: 0.8988 - accuracy: 0.6862 - val_loss: 0.9759 - val_accuracy: 0.6600\n",
            "Epoch 5/10\n",
            "1563/1563 [==============================] - 66s 42ms/step - loss: 0.8329 - accuracy: 0.7107 - val_loss: 0.9558 - val_accuracy: 0.6662\n",
            "Epoch 6/10\n",
            "1563/1563 [==============================] - 66s 42ms/step - loss: 0.7787 - accuracy: 0.7280 - val_loss: 0.9929 - val_accuracy: 0.6677\n",
            "Epoch 7/10\n",
            "1563/1563 [==============================] - 70s 45ms/step - loss: 0.7301 - accuracy: 0.7469 - val_loss: 0.9280 - val_accuracy: 0.6860\n",
            "Epoch 8/10\n",
            "1563/1563 [==============================] - 66s 42ms/step - loss: 0.6932 - accuracy: 0.7586 - val_loss: 0.9155 - val_accuracy: 0.6963\n",
            "Epoch 9/10\n",
            "1563/1563 [==============================] - 65s 41ms/step - loss: 0.6502 - accuracy: 0.7744 - val_loss: 0.9346 - val_accuracy: 0.6893\n",
            "Epoch 10/10\n",
            "1563/1563 [==============================] - 64s 41ms/step - loss: 0.6141 - accuracy: 0.7861 - val_loss: 0.9313 - val_accuracy: 0.6964\n",
            "313/313 [==============================] - 4s 11ms/step - loss: 0.9313 - accuracy: 0.6964\n",
            "Test accuracy (Simple CNN): 0.696399986743927\n"
          ]
        }
      ]
    },
    {
      "cell_type": "markdown",
      "source": [
        "## Model 2 - Deeper CNN:"
      ],
      "metadata": {
        "id": "cQe-CZdQfHyo"
      }
    },
    {
      "cell_type": "code",
      "source": [
        "# Build the Deeper CNN architecture\n",
        "model_deeper = tf.keras.Sequential([\n",
        "    tf.keras.layers.Conv2D(32, (3, 3), activation='relu', input_shape=(32, 32, 3)),\n",
        "    tf.keras.layers.MaxPooling2D((2, 2)),\n",
        "    tf.keras.layers.Conv2D(64, (3, 3), activation='relu'),\n",
        "    tf.keras.layers.MaxPooling2D((2, 2)),\n",
        "    tf.keras.layers.Conv2D(128, (3, 3), activation='relu'),\n",
        "    tf.keras.layers.MaxPooling2D((2, 2)),\n",
        "    tf.keras.layers.Flatten(),\n",
        "    tf.keras.layers.Dense(128, activation='relu'),\n",
        "    tf.keras.layers.Dense(10, activation='softmax')\n",
        "])\n",
        "\n",
        "# Compile the model\n",
        "model_deeper.compile(optimizer='adam',\n",
        "                     loss='sparse_categorical_crossentropy',\n",
        "                     metrics=['accuracy'])\n",
        "\n",
        "# Train the model\n",
        "history_deeper = model_deeper.fit(train_images, train_labels, epochs=10, batch_size=32, validation_data=(test_images, test_labels))\n",
        "\n",
        "# Evaluate the model\n",
        "test_loss_deeper, test_accuracy_deeper = model_deeper.evaluate(test_images, test_labels)\n",
        "print(\"Test accuracy (Deeper CNN):\", test_accuracy_deeper)\n"
      ],
      "metadata": {
        "colab": {
          "base_uri": "https://localhost:8080/"
        },
        "id": "iRVp60VIfJB8",
        "outputId": "414ebf4c-0f77-4a83-89ba-753a81eec8da"
      },
      "execution_count": null,
      "outputs": [
        {
          "output_type": "stream",
          "name": "stdout",
          "text": [
            "Epoch 1/10\n",
            "1563/1563 [==============================] - 75s 47ms/step - loss: 1.5295 - accuracy: 0.4412 - val_loss: 1.2237 - val_accuracy: 0.5623\n",
            "Epoch 2/10\n",
            "1563/1563 [==============================] - 73s 47ms/step - loss: 1.1476 - accuracy: 0.5939 - val_loss: 1.1476 - val_accuracy: 0.5922\n",
            "Epoch 3/10\n",
            "1563/1563 [==============================] - 73s 47ms/step - loss: 0.9822 - accuracy: 0.6574 - val_loss: 0.9734 - val_accuracy: 0.6630\n",
            "Epoch 4/10\n",
            "1563/1563 [==============================] - 75s 48ms/step - loss: 0.8699 - accuracy: 0.6934 - val_loss: 0.9216 - val_accuracy: 0.6827\n",
            "Epoch 5/10\n",
            "1563/1563 [==============================] - 74s 47ms/step - loss: 0.7905 - accuracy: 0.7213 - val_loss: 0.9038 - val_accuracy: 0.6877\n",
            "Epoch 6/10\n",
            "1563/1563 [==============================] - 73s 47ms/step - loss: 0.7256 - accuracy: 0.7460 - val_loss: 0.8728 - val_accuracy: 0.7050\n",
            "Epoch 7/10\n",
            "1563/1563 [==============================] - 74s 48ms/step - loss: 0.6686 - accuracy: 0.7641 - val_loss: 0.8478 - val_accuracy: 0.7161\n",
            "Epoch 8/10\n",
            "1563/1563 [==============================] - 75s 48ms/step - loss: 0.6210 - accuracy: 0.7817 - val_loss: 0.8608 - val_accuracy: 0.7180\n",
            "Epoch 9/10\n",
            "1563/1563 [==============================] - 76s 48ms/step - loss: 0.5714 - accuracy: 0.7991 - val_loss: 0.8769 - val_accuracy: 0.7114\n",
            "Epoch 10/10\n",
            "1563/1563 [==============================] - 72s 46ms/step - loss: 0.5307 - accuracy: 0.8131 - val_loss: 0.8772 - val_accuracy: 0.7187\n",
            "313/313 [==============================] - 5s 17ms/step - loss: 0.8772 - accuracy: 0.7187\n",
            "Test accuracy (Deeper CNN): 0.7186999917030334\n"
          ]
        }
      ]
    }
  ]
}