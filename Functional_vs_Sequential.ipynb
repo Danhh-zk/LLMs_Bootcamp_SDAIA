{
  "nbformat": 4,
  "nbformat_minor": 0,
  "metadata": {
    "colab": {
      "provenance": []
    },
    "kernelspec": {
      "name": "python3",
      "display_name": "Python 3"
    }
  },
  "cells": [
    {
      "cell_type": "markdown",
      "metadata": {
        "id": "jzqXONrQeOXw"
      },
      "source": [
        "# Deep Learning Models with Keras\n",
        "---\n",
        "\n",
        "\n",
        "\n",
        "**Objective:** In this notebook exercise, you will learn how to build Artficial Neural Networks for deep learning models using the Keras library integrated in TensorFlow as of version 2.0. Keras is a minimalist Python library which made building DL models simple and straightforward.\n",
        "\n",
        "We will be exploring how to build and train a neural network model using both of the Keras Sequential and Functional APIs.\n"
      ]
    },
    {
      "cell_type": "markdown",
      "metadata": {
        "id": "CaEAhwZDEPhC"
      },
      "source": [
        "## Defining a Sequential model\n",
        "\n",
        "The first exercise for this colab is building an artificial neural network using the Keras sequential model.\n",
        "The library we need is `tensorflow.keras.models`\n",
        "\n"
      ]
    },
    {
      "cell_type": "code",
      "metadata": {
        "id": "j8nSbmRKeHNU",
        "colab": {
          "base_uri": "https://localhost:8080/"
        },
        "outputId": "7916cc8e-88e0-4c63-96d9-1428041bdb81"
      },
      "source": [
        "from tensorflow.keras.models import Sequential\n",
        "from tensorflow.keras.layers import Dense\n",
        "\n",
        "model = Sequential()\n",
        "model.add(Dense(4, input_dim = 2, activation = 'relu'))\n",
        "model.add(Dense(6, activation = 'relu'))\n",
        "model.add(Dense(1, activation = \"sigmoid\"))\n",
        "\n",
        "# print model\n",
        "model.summary()"
      ],
      "execution_count": null,
      "outputs": [
        {
          "output_type": "stream",
          "name": "stdout",
          "text": [
            "Model: \"sequential\"\n",
            "_________________________________________________________________\n",
            " Layer (type)                Output Shape              Param #   \n",
            "=================================================================\n",
            " dense (Dense)               (None, 4)                 12        \n",
            "                                                                 \n",
            " dense_1 (Dense)             (None, 6)                 30        \n",
            "                                                                 \n",
            " dense_2 (Dense)             (None, 1)                 7         \n",
            "                                                                 \n",
            "=================================================================\n",
            "Total params: 49 (196.00 Byte)\n",
            "Trainable params: 49 (196.00 Byte)\n",
            "Non-trainable params: 0 (0.00 Byte)\n",
            "_________________________________________________________________\n"
          ]
        }
      ]
    },
    {
      "cell_type": "markdown",
      "metadata": {
        "id": "OanaXge8PeXq"
      },
      "source": [
        "Reminder: `Dense` refers to a fully connected layer (meaning all the neurons of a layers are connected to all the neurons in the following layer)."
      ]
    },
    {
      "cell_type": "markdown",
      "metadata": {
        "id": "bALHQ-q3M8fn"
      },
      "source": [
        "This how the ReLU function looks like:\n",
        "\n",
        "![alt text](https://qph.fs.quoracdn.net/main-qimg-9e3b87e175577fe97da51fd1a2b50eac)\n",
        "\n",
        "*source:* https://qph.fs.quoracdn.net/main-qimg-9e3b87e175577fe97da51fd1a2b50eac"
      ]
    },
    {
      "cell_type": "markdown",
      "metadata": {
        "id": "9BFAu54ENeQD"
      },
      "source": [
        "And this is the sigmoid function which squashes values to the interval [0;1]:\n",
        "\n",
        "![alt text](https://qph.fs.quoracdn.net/main-qimg-6b67bea3311c3429bfb34b6b1737fe0c)\n",
        "\n",
        "*source:* https://qph.fs.quoracdn.net/main-qimg-6b67bea3311c3429bfb34b6b1737fe0c"
      ]
    },
    {
      "cell_type": "markdown",
      "metadata": {
        "id": "dBVW-qoPh7Od"
      },
      "source": [
        "## Visualizing the model\n",
        "\n",
        "Using plot_model, Keras allows us to visually portray the artificial network we have built with input layer, hidden layers and an output layer."
      ]
    },
    {
      "cell_type": "code",
      "metadata": {
        "id": "ia5n5YUmfDzE",
        "colab": {
          "base_uri": "https://localhost:8080/",
          "height": 422
        },
        "outputId": "d9c90862-33b3-4b4d-a41a-1b8d2f972d16"
      },
      "source": [
        "from tensorflow.keras.utils import plot_model\n",
        "\n",
        "plot_model(model, to_file='model_plot.png', show_shapes=True, show_layer_names=True)"
      ],
      "execution_count": null,
      "outputs": [
        {
          "output_type": "execute_result",
          "data": {
            "image/png": "[encoded data removed]",
            "text/plain": [
              "<IPython.core.display.Image object>"
            ]
          },
          "metadata": {},
          "execution_count": 2
        }
      ]
    },
    {
      "cell_type": "markdown",
      "metadata": {
        "id": "UVZTAnU7kldM"
      },
      "source": [
        "## Functional API\n",
        "Unlike the sequential model, the functional model allows for complex interactions between layers. As you'll notice, in this model, we create the input layer apart and then link all the layers to one another using brackets ( ) at the end of the definition.\n",
        "\n",
        "We will need two extra libraries on before:\n",
        "* `tensorflow.keras.utils`\n",
        "* `tensorflow.keras.layers`\n",
        "\n",
        "We will also be using plot_model to visualize this functional API model.\n",
        "\n"
      ]
    },
    {
      "cell_type": "code",
      "metadata": {
        "id": "w3BOdjdpkoBG",
        "colab": {
          "base_uri": "https://localhost:8080/",
          "height": 863
        },
        "outputId": "3a9ed40c-2796-4163-d88a-f109c29b8b38"
      },
      "source": [
        "from tensorflow.keras.utils import plot_model\n",
        "from tensorflow.keras.models import Model\n",
        "from tensorflow.keras.layers import Input\n",
        "from tensorflow.keras.layers import Dense\n",
        "\n",
        "# define input\n",
        "visible = Input(shape=(10,))\n",
        "\n",
        "# connect layers\n",
        "layer1 = Dense(10, activation='relu')(visible)\n",
        "layer2 = Dense(20, activation='relu')(layer1)\n",
        "layer3 = Dense(10, activation='relu')(layer2)\n",
        "layer4 = Dense(1, activation='sigmoid')(layer3)\n",
        "\n",
        "# finally, we create the model\n",
        "model = Model(inputs=visible, outputs=layer4)\n",
        "\n",
        "# summarize layers\n",
        "model.summary()\n",
        "\n",
        "# plot graph\n",
        "plot_model(model, to_file='multilayer_perceptron_graph.png',  show_shapes=True, show_layer_names=True)"
      ],
      "execution_count": null,
      "outputs": [
        {
          "output_type": "stream",
          "name": "stdout",
          "text": [
            "Model: \"model\"\n",
            "_________________________________________________________________\n",
            " Layer (type)                Output Shape              Param #   \n",
            "=================================================================\n",
            " input_1 (InputLayer)        [(None, 10)]              0         \n",
            "                                                                 \n",
            " dense_3 (Dense)             (None, 10)                110       \n",
            "                                                                 \n",
            " dense_4 (Dense)             (None, 20)                220       \n",
            "                                                                 \n",
            " dense_5 (Dense)             (None, 10)                210       \n",
            "                                                                 \n",
            " dense_6 (Dense)             (None, 1)                 11        \n",
            "                                                                 \n",
            "=================================================================\n",
            "Total params: 551 (2.15 KB)\n",
            "Trainable params: 551 (2.15 KB)\n",
            "Non-trainable params: 0 (0.00 Byte)\n",
            "_________________________________________________________________\n"
          ]
        },
        {
          "output_type": "execute_result",
          "data": {
            "image/png": "[encoded data removed]",
            "text/plain": [
              "<IPython.core.display.Image object>"
            ]
          },
          "metadata": {},
          "execution_count": 3
        }
      ]
    },
    {
      "cell_type": "markdown",
      "metadata": {
        "id": "-Cn2GOYfq6N4"
      },
      "source": [
        "## Model training\n",
        "\n",
        "In this code cell, the steps for building, compiling and training the model are described.\n",
        "1. First build the neural network with activation functions\n",
        "2. Compile the model by choosing an optimization algorithm (stochastic gradient descent for this example) and a loss (cost) function to optimize. Since the output neuron is singular with a sigmoid activation function, we will use binary_crossentropy.\n",
        "3. We generated random data just for the sake of describing the way to train an ANN (artificial neural network)\n",
        "4. Train the model using the `fit()` function choosing batch size and epochs.\n",
        "5. Use the trained model to predict on new unseen data.\n",
        "\n",
        "Since this is a random data set, the predicted output is not very meaningful but the purpose is to show the ***compile*** and ***train*** steps when developping a Deep Learning Model."
      ]
    },
    {
      "cell_type": "code",
      "metadata": {
        "id": "yRfi6nViq8Ol",
        "colab": {
          "base_uri": "https://localhost:8080/"
        },
        "outputId": "ca25d73c-50fa-46ec-e367-3abf1cd3c9c6"
      },
      "source": [
        "# build model\n",
        "model = Sequential()\n",
        "model.add(Dense(32, activation='relu', input_dim=100))\n",
        "model.add(Dense(1, activation='sigmoid'))\n",
        "\n",
        "# compile model\n",
        "model.compile(optimizer='sgd',\n",
        "              loss='binary_crossentropy', # categorical crossentry, MSE = 0.5(y-y_hat)^2\n",
        "              metrics=['accuracy'])\n",
        "\n",
        "# Generate dummy data\n",
        "import numpy as np\n",
        "data = np.random.random((100000, 100))\n",
        "labels = np.random.randint(2, size=(100000, 1))\n",
        "\n",
        "# Train the model, iterating on the data in batches of 32 samples\n",
        "model.fit(data, labels, epochs=10, batch_size=32)\n",
        "\n",
        "# predict\n",
        "data_example = np.random.random((1, 100))\n",
        "model.predict(data_example)"
      ],
      "execution_count": null,
      "outputs": [
        {
          "output_type": "stream",
          "name": "stdout",
          "text": [
            "Epoch 1/10\n",
            "3125/3125 [==============================] - 7s 2ms/step - loss: 0.6978 - accuracy: 0.4983\n",
            "Epoch 2/10\n",
            "3125/3125 [==============================] - 6s 2ms/step - loss: 0.6941 - accuracy: 0.5008\n",
            "Epoch 3/10\n",
            "3125/3125 [==============================] - 6s 2ms/step - loss: 0.6935 - accuracy: 0.5023\n",
            "Epoch 4/10\n",
            "3125/3125 [==============================] - 7s 2ms/step - loss: 0.6934 - accuracy: 0.5015\n",
            "Epoch 5/10\n",
            "3125/3125 [==============================] - 5s 2ms/step - loss: 0.6932 - accuracy: 0.5030\n",
            "Epoch 6/10\n",
            "3125/3125 [==============================] - 6s 2ms/step - loss: 0.6932 - accuracy: 0.5043\n",
            "Epoch 7/10\n",
            "3125/3125 [==============================] - 6s 2ms/step - loss: 0.6931 - accuracy: 0.5039\n",
            "Epoch 8/10\n",
            "3125/3125 [==============================] - 6s 2ms/step - loss: 0.6931 - accuracy: 0.5044\n",
            "Epoch 9/10\n",
            "3125/3125 [==============================] - 7s 2ms/step - loss: 0.6931 - accuracy: 0.5040\n",
            "Epoch 10/10\n",
            "3125/3125 [==============================] - 7s 2ms/step - loss: 0.6930 - accuracy: 0.5069\n",
            "1/1 [==============================] - 0s 143ms/step\n"
          ]
        },
        {
          "output_type": "execute_result",
          "data": {
            "text/plain": [
              "array([[0.5093699]], dtype=float32)"
            ]
          },
          "metadata": {},
          "execution_count": 4
        }
      ]
    },
    {
      "cell_type": "markdown",
      "metadata": {
        "id": "0D9yPyzikUb5"
      },
      "source": [
        "# Custom model\n",
        "\n",
        "Let's build this model using both Sequential & Functional APIs. This exercise will help you apply everything we went through in this notebook. Good luck!\n",
        "![alt text](https://miro.medium.com/max/1400/1*3fA77_mLNiJTSgZFhYnU0Q@2x.png)"
      ]
    },
    {
      "cell_type": "code",
      "metadata": {
        "id": "ADMFinBIkSua",
        "colab": {
          "base_uri": "https://localhost:8080/"
        },
        "outputId": "c5bc70c7-c936-4ab5-b530-bf0a22fe426e"
      },
      "source": [
        "# Sequential\n",
        "\n",
        "model = Sequential()\n",
        "model.add(Dense(4, activation=\"relu\", input_dim=3))\n",
        "model.add(Dense(4, activation=\"relu\"))\n",
        "model.add(Dense(1, activation=\"sigmoid\"))\n",
        "\n",
        "model.summary()"
      ],
      "execution_count": null,
      "outputs": [
        {
          "output_type": "stream",
          "name": "stdout",
          "text": [
            "Model: \"sequential_2\"\n",
            "_________________________________________________________________\n",
            " Layer (type)                Output Shape              Param #   \n",
            "=================================================================\n",
            " dense_9 (Dense)             (None, 4)                 16        \n",
            "                                                                 \n",
            " dense_10 (Dense)            (None, 4)                 20        \n",
            "                                                                 \n",
            " dense_11 (Dense)            (None, 1)                 5         \n",
            "                                                                 \n",
            "=================================================================\n",
            "Total params: 41 (164.00 Byte)\n",
            "Trainable params: 41 (164.00 Byte)\n",
            "Non-trainable params: 0 (0.00 Byte)\n",
            "_________________________________________________________________\n"
          ]
        }
      ]
    },
    {
      "cell_type": "code",
      "metadata": {
        "id": "PfoBeIlemyCX",
        "colab": {
          "base_uri": "https://localhost:8080/"
        },
        "outputId": "7bc614f0-eb0c-4b79-b88c-a437b5f26124"
      },
      "source": [
        "# Functional API\n",
        "\n",
        "input_layer = Input(shape=3)\n",
        "hidden1 = Dense(4, activation=\"relu\")(input_layer)\n",
        "hidden2 = Dense(4, activation=\"relu\")(hidden1)\n",
        "output_layer = Dense(1, activation=\"sigmoid\")(hidden2)\n",
        "\n",
        "model = Model(inputs=input_layer, outputs=output_layer)\n",
        "\n",
        "model.summary()"
      ],
      "execution_count": null,
      "outputs": [
        {
          "output_type": "stream",
          "name": "stdout",
          "text": [
            "Model: \"model_1\"\n",
            "_________________________________________________________________\n",
            " Layer (type)                Output Shape              Param #   \n",
            "=================================================================\n",
            " input_2 (InputLayer)        [(None, 3)]               0         \n",
            "                                                                 \n",
            " dense_12 (Dense)            (None, 4)                 16        \n",
            "                                                                 \n",
            " dense_13 (Dense)            (None, 4)                 20        \n",
            "                                                                 \n",
            " dense_14 (Dense)            (None, 1)                 5         \n",
            "                                                                 \n",
            "=================================================================\n",
            "Total params: 41 (164.00 Byte)\n",
            "Trainable params: 41 (164.00 Byte)\n",
            "Non-trainable params: 0 (0.00 Byte)\n",
            "_________________________________________________________________\n"
          ]
        }
      ]
    }
  ]
}